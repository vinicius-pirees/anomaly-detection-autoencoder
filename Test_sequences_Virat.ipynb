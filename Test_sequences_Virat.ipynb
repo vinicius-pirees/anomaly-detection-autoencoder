{
 "cells": [
  {
   "cell_type": "code",
   "execution_count": 24,
   "metadata": {},
   "outputs": [],
   "source": [
    "import keras"
   ]
  },
  {
   "cell_type": "code",
   "execution_count": 25,
   "metadata": {},
   "outputs": [],
   "source": [
    "import tensorflow as tf"
   ]
  },
  {
   "cell_type": "code",
   "execution_count": 26,
   "metadata": {},
   "outputs": [],
   "source": [
    "import os\n",
    "import sys\n",
    "import cv2\n",
    "from matplotlib import pyplot as plt\n",
    "import time\n",
    "from os import listdir\n",
    "from os.path import isfile, join, isdir\n",
    "import numpy as np"
   ]
  },
  {
   "cell_type": "code",
   "execution_count": 27,
   "metadata": {},
   "outputs": [],
   "source": [
    "main_dir = os.getcwd()"
   ]
  },
  {
   "cell_type": "code",
   "execution_count": 28,
   "metadata": {},
   "outputs": [],
   "source": [
    "def get_clips_by_stride(stride, frames_list, sequence_size):\n",
    "    \"\"\" For data augmenting purposes.\n",
    "    Parameters\n",
    "    ----------\n",
    "    stride : int\n",
    "        The distance between two consecutive frames\n",
    "    frames_list : list\n",
    "        A list of sorted frames of shape 256 X 256\n",
    "    sequence_size: int\n",
    "        The size of the lstm sequence\n",
    "    Returns\n",
    "    -------\n",
    "    list\n",
    "        A list of clips , 10 frames each\n",
    "    \"\"\"\n",
    "    clips = []\n",
    "    sz = len(frames_list)\n",
    "    clip = np.zeros(shape=(sequence_size, 256, 256, 1))\n",
    "    cnt = 0\n",
    "    for start in range(0, stride):\n",
    "        for i in range(start, sz, stride):\n",
    "            clip[cnt, :, :, 0] = frames_list[i]\n",
    "            cnt = cnt + 1\n",
    "            if cnt == sequence_size:\n",
    "                clips.append(clip)\n",
    "                cnt = 0\n",
    "    return clips"
   ]
  },
  {
   "cell_type": "code",
   "execution_count": 53,
   "metadata": {},
   "outputs": [],
   "source": [
    "DATASET_PATH = main_dir + \"/VIRAT_transformed/\"\n",
    "BATCH_SIZE = 1\n",
    "EPOCHS = 3\n",
    "MODEL_PATH = main_dir + \"/model_virat.hdf5\""
   ]
  },
  {
   "cell_type": "code",
   "execution_count": 56,
   "metadata": {},
   "outputs": [],
   "source": [
    "TEST_PATH = os.path.join(DATASET_PATH, 'Test')\n",
    "TEST_FILE = os.path.join(TEST_PATH, 'test_001.mp4')"
   ]
  },
  {
   "cell_type": "code",
   "execution_count": 30,
   "metadata": {},
   "outputs": [],
   "source": [
    "from os import listdir\n",
    "from os.path import isfile, join, isdir\n",
    "import numpy as np\n",
    "from PIL import Image\n",
    "\n",
    "def get_clips_by_stride(stride, frames_list, sequence_size):\n",
    "    \"\"\" For data augmenting purposes.\n",
    "    Parameters\n",
    "    ----------\n",
    "    stride : int\n",
    "        The distance between two consecutive frames\n",
    "    frames_list : list\n",
    "        A list of sorted frames of shape 256 X 256\n",
    "    sequence_size: int\n",
    "        The size of the lstm sequence\n",
    "    Returns\n",
    "    -------\n",
    "    list\n",
    "        A list of clips , 10 frames each\n",
    "    \"\"\"\n",
    "    clips = []\n",
    "    sz = len(frames_list)\n",
    "    clip = np.zeros(shape=(sequence_size, 256, 256, 1))\n",
    "    cnt = 0\n",
    "    for start in range(0, stride):\n",
    "        for i in range(start, sz, stride):\n",
    "            clip[cnt, :, :, 0] = frames_list[i]\n",
    "            cnt = cnt + 1\n",
    "            if cnt == sequence_size:\n",
    "                clips.append(clip)\n",
    "                cnt = 0\n",
    "    return clips\n",
    "\n",
    "def get_training_set():\n",
    "    \"\"\"\n",
    "    Returns\n",
    "    -------\n",
    "    list\n",
    "        A list of training sequences of shape (NUMBER_OF_SEQUENCES,SINGLE_SEQUENCE_SIZE,FRAME_WIDTH,FRAME_HEIGHT,1)\n",
    "    \"\"\"\n",
    "    clips = []\n",
    "\n",
    "    for video in os.listdir(DATASET_PATH + '/Train'):\n",
    "        all_frames = []\n",
    "        vs = cv2.VideoCapture(os.path.join(DATASET_PATH + '/Train', video))\n",
    "        while(vs.isOpened()):\n",
    "            ret, frame = vs.read()\n",
    "            if ret == True:\n",
    "                frame = cv2.resize(frame, (256,256))\n",
    "                frame = cv2.cvtColor(frame, cv2.COLOR_BGR2GRAY)\n",
    "                frame = frame/256\n",
    "                all_frames.append(frame)\n",
    "            else:\n",
    "                vs.release()\n",
    "                break\n",
    "        # get the 10-frames sequences from the list\n",
    "        #for stride in range(1, 3): #applying data augmentation\n",
    "        #clips.extend(get_clips_by_stride(stride=stride, frames_list=all_frames, sequence_size=10))\n",
    "        clips.extend(get_clips_by_stride(stride=1, frames_list=all_frames, sequence_size=10))\n",
    "    return clips"
   ]
  },
  {
   "cell_type": "code",
   "execution_count": 31,
   "metadata": {},
   "outputs": [],
   "source": [
    "training_set = get_training_set()"
   ]
  },
  {
   "cell_type": "code",
   "execution_count": null,
   "metadata": {},
   "outputs": [],
   "source": []
  },
  {
   "cell_type": "code",
   "execution_count": 33,
   "metadata": {},
   "outputs": [],
   "source": [
    "import keras\n",
    "from keras.layers import Conv2DTranspose, ConvLSTM2D, BatchNormalization, TimeDistributed, Conv2D\n",
    "from keras.models import Sequential, load_model\n",
    "from keras_layer_normalization import LayerNormalization\n",
    "\n",
    "def get_model(reload_model=True):\n",
    "    \"\"\"\n",
    "    Parameters\n",
    "    ----------\n",
    "    reload_model : bool\n",
    "        Load saved model or retrain it\n",
    "    \"\"\"\n",
    "    if not reload_model:\n",
    "        return load_model(MODEL_PATH,custom_objects={'LayerNormalization': LayerNormalization})\n",
    "    training_set = get_training_set()\n",
    "    training_set = np.array(training_set)\n",
    "    seq = Sequential()\n",
    "    seq.add(TimeDistributed(Conv2D(128, (11, 11), strides=4, padding=\"same\"), batch_input_shape=(None, 10, 256, 256, 1)))\n",
    "    seq.add(LayerNormalization())\n",
    "    seq.add(TimeDistributed(Conv2D(64, (5, 5), strides=2, padding=\"same\")))\n",
    "    seq.add(LayerNormalization())\n",
    "    # # # # #\n",
    "    seq.add(ConvLSTM2D(64, (3, 3), padding=\"same\", return_sequences=True))\n",
    "    seq.add(LayerNormalization())\n",
    "    seq.add(ConvLSTM2D(32, (3, 3), padding=\"same\", return_sequences=True))\n",
    "    seq.add(LayerNormalization())\n",
    "    seq.add(ConvLSTM2D(64, (3, 3), padding=\"same\", return_sequences=True))\n",
    "    seq.add(LayerNormalization())\n",
    "    # # # # #\n",
    "    seq.add(TimeDistributed(Conv2DTranspose(64, (5, 5), strides=2, padding=\"same\")))\n",
    "    seq.add(LayerNormalization())\n",
    "    seq.add(TimeDistributed(Conv2DTranspose(128, (11, 11), strides=4, padding=\"same\")))\n",
    "    seq.add(LayerNormalization())\n",
    "    seq.add(TimeDistributed(Conv2D(1, (11, 11), activation=\"sigmoid\", padding=\"same\")))\n",
    "    print(seq.summary())\n",
    "    seq.compile(loss='mse', optimizer=keras.optimizers.Adam(lr=1e-4, decay=1e-5, epsilon=1e-6))\n",
    "    seq.fit(training_set, training_set,\n",
    "            batch_size=BATCH_SIZE, epochs=EPOCHS, shuffle=False)\n",
    "    seq.save(MODEL_PATH)\n",
    "    return seq"
   ]
  },
  {
   "cell_type": "code",
   "execution_count": 47,
   "metadata": {},
   "outputs": [],
   "source": [
    "def get_single_test(test_file):\n",
    "    vs = cv2.VideoCapture(test_file)\n",
    "    num_frames = int(vs.get(cv2.CAP_PROP_FRAME_COUNT))\n",
    "    test = np.zeros(shape=(num_frames, 256, 256, 1))\n",
    "    while(vs.isOpened()):\n",
    "        ret, frame = vs.read()\n",
    "        count = 0\n",
    "        if ret == True:\n",
    "            frame = cv2.resize(frame, (256,256))\n",
    "            frame = cv2.cvtColor(frame, cv2.COLOR_BGR2GRAY)\n",
    "            frame = frame/256\n",
    "            test[count, :, :, 0] = frame\n",
    "            count += 1\n",
    "        else:\n",
    "            vs.release()\n",
    "            break\n",
    "    return test"
   ]
  },
  {
   "cell_type": "code",
   "execution_count": null,
   "metadata": {},
   "outputs": [],
   "source": []
  },
  {
   "cell_type": "code",
   "execution_count": null,
   "metadata": {},
   "outputs": [],
   "source": []
  },
  {
   "cell_type": "code",
   "execution_count": null,
   "metadata": {},
   "outputs": [],
   "source": []
  },
  {
   "cell_type": "code",
   "execution_count": null,
   "metadata": {},
   "outputs": [],
   "source": []
  },
  {
   "cell_type": "code",
   "execution_count": null,
   "metadata": {},
   "outputs": [],
   "source": []
  },
  {
   "cell_type": "code",
   "execution_count": null,
   "metadata": {},
   "outputs": [],
   "source": []
  },
  {
   "cell_type": "code",
   "execution_count": 34,
   "metadata": {},
   "outputs": [
    {
     "name": "stdout",
     "output_type": "stream",
     "text": [
      "_________________________________________________________________\n",
      "Layer (type)                 Output Shape              Param #   \n",
      "=================================================================\n",
      "time_distributed_1 (TimeDist (None, 10, 64, 64, 128)   15616     \n",
      "_________________________________________________________________\n",
      "layer_normalization_1 (Layer (None, 10, 64, 64, 128)   256       \n",
      "_________________________________________________________________\n",
      "time_distributed_2 (TimeDist (None, 10, 32, 32, 64)    204864    \n",
      "_________________________________________________________________\n",
      "layer_normalization_2 (Layer (None, 10, 32, 32, 64)    128       \n",
      "_________________________________________________________________\n",
      "conv_lst_m2d_1 (ConvLSTM2D)  (None, 10, 32, 32, 64)    295168    \n",
      "_________________________________________________________________\n",
      "layer_normalization_3 (Layer (None, 10, 32, 32, 64)    128       \n",
      "_________________________________________________________________\n",
      "conv_lst_m2d_2 (ConvLSTM2D)  (None, 10, 32, 32, 32)    110720    \n",
      "_________________________________________________________________\n",
      "layer_normalization_4 (Layer (None, 10, 32, 32, 32)    64        \n",
      "_________________________________________________________________\n",
      "conv_lst_m2d_3 (ConvLSTM2D)  (None, 10, 32, 32, 64)    221440    \n",
      "_________________________________________________________________\n",
      "layer_normalization_5 (Layer (None, 10, 32, 32, 64)    128       \n",
      "_________________________________________________________________\n",
      "time_distributed_3 (TimeDist (None, 10, 64, 64, 64)    102464    \n",
      "_________________________________________________________________\n",
      "layer_normalization_6 (Layer (None, 10, 64, 64, 64)    128       \n",
      "_________________________________________________________________\n",
      "time_distributed_4 (TimeDist (None, 10, 256, 256, 128) 991360    \n",
      "_________________________________________________________________\n",
      "layer_normalization_7 (Layer (None, 10, 256, 256, 128) 256       \n",
      "_________________________________________________________________\n",
      "time_distributed_5 (TimeDist (None, 10, 256, 256, 1)   15489     \n",
      "=================================================================\n",
      "Total params: 1,958,209\n",
      "Trainable params: 1,958,209\n",
      "Non-trainable params: 0\n",
      "_________________________________________________________________\n",
      "None\n",
      "Epoch 1/3\n",
      "1767/1767 [==============================] - 6220s 4s/step - loss: 0.0055\n",
      "Epoch 2/3\n",
      "1767/1767 [==============================] - 6212s 4s/step - loss: 0.0015\n",
      "Epoch 3/3\n",
      "1767/1767 [==============================] - 6210s 4s/step - loss: 9.9986e-04\n"
     ]
    }
   ],
   "source": [
    "model = get_model(True)"
   ]
  },
  {
   "cell_type": "code",
   "execution_count": null,
   "metadata": {},
   "outputs": [],
   "source": []
  },
  {
   "cell_type": "code",
   "execution_count": null,
   "metadata": {},
   "outputs": [],
   "source": []
  },
  {
   "cell_type": "code",
   "execution_count": null,
   "metadata": {},
   "outputs": [],
   "source": []
  },
  {
   "cell_type": "code",
   "execution_count": null,
   "metadata": {},
   "outputs": [],
   "source": []
  },
  {
   "cell_type": "code",
   "execution_count": 48,
   "metadata": {},
   "outputs": [],
   "source": [
    "def evaluate():\n",
    "    model = get_model(False)\n",
    "    print(\"got model\")\n",
    "    test = get_single_test(TEST_FILE)\n",
    "    print(\"got test\")\n",
    "    sz = test.shape[0] - 10\n",
    "    sequences = np.zeros((sz, 10, 256, 256, 1))\n",
    "    # apply the sliding window technique to get the sequences\n",
    "    for i in range(0, sz):\n",
    "        clip = np.zeros((10, 256, 256, 1))\n",
    "        for j in range(0, 10):\n",
    "            clip[j] = test[i + j, :, :, :]\n",
    "        sequences[i] = clip\n",
    "\n",
    "    # get the reconstruction cost of all the sequences\n",
    "    reconstructed_sequences = model.predict(sequences,batch_size=BATCH_SIZE)\n",
    "    sequences_reconstruction_cost = np.array([np.linalg.norm(np.subtract(sequences[i],reconstructed_sequences[i])) for i in range(0,sz)])\n",
    "    sa = (sequences_reconstruction_cost - np.min(sequences_reconstruction_cost)) / np.max(sequences_reconstruction_cost)\n",
    "    sr = 1.0 - sa\n",
    "\n",
    "    # plot the regularity scores\n",
    "    plt.plot(sr)\n",
    "    plt.ylabel('regularity score Sr(t)')\n",
    "    plt.xlabel('frame t')\n",
    "    plt.show()"
   ]
  },
  {
   "cell_type": "code",
   "execution_count": 49,
   "metadata": {},
   "outputs": [
    {
     "name": "stdout",
     "output_type": "stream",
     "text": [
      "got model\n",
      "got test\n"
     ]
    },
    {
     "data": {
      "image/png": "[encoded data removed]",
      "text/plain": [
       "<Figure size 432x288 with 1 Axes>"
      ]
     },
     "metadata": {},
     "output_type": "display_data"
    }
   ],
   "source": [
    "evaluate()"
   ]
  },
  {
   "cell_type": "code",
   "execution_count": 51,
   "metadata": {},
   "outputs": [],
   "source": [
    "%matplotlib notebook"
   ]
  },
  {
   "cell_type": "code",
   "execution_count": 57,
   "metadata": {},
   "outputs": [],
   "source": [
    "single_test = get_single_test(TEST_FILE)"
   ]
  },
  {
   "cell_type": "code",
   "execution_count": 58,
   "metadata": {},
   "outputs": [
    {
     "data": {
      "text/plain": [
       "(499, 256, 256, 1)"
      ]
     },
     "execution_count": 58,
     "metadata": {},
     "output_type": "execute_result"
    }
   ],
   "source": [
    "single_test.shape"
   ]
  },
  {
   "cell_type": "code",
   "execution_count": 59,
   "metadata": {},
   "outputs": [
    {
     "data": {
      "text/plain": [
       "(499, 256, 256)"
      ]
     },
     "execution_count": 59,
     "metadata": {},
     "output_type": "execute_result"
    }
   ],
   "source": [
    "single_test[:,:,:,0].shape"
   ]
  },
  {
   "cell_type": "code",
   "execution_count": null,
   "metadata": {},
   "outputs": [],
   "source": [
    "single_test[:,:,:,0]"
   ]
  },
  {
   "cell_type": "code",
   "execution_count": null,
   "metadata": {
    "collapsed": true
   },
   "outputs": [],
   "source": [
    "for frame in  single_test[:,:,:,0]:\n",
    "    cv2.imshow('frame', frame)\n",
    "    if cv2.waitKey(25) & 0xFF == ord('q'):\n",
    "        cv2.destroyAllWindows()\n",
    "        break"
   ]
  },
  {
   "cell_type": "code",
   "execution_count": 60,
   "metadata": {},
   "outputs": [],
   "source": [
    "%matplotlib inline"
   ]
  },
  {
   "cell_type": "code",
   "execution_count": 62,
   "metadata": {},
   "outputs": [
    {
     "data": {
      "image/png": "[encoded data removed]",
      "text/plain": [
       "<Figure size 432x288 with 1 Axes>"
      ]
     },
     "metadata": {},
     "output_type": "display_data"
    }
   ],
   "source": [
    "plt.imshow(single_test[:,:,:,0][140])\n",
    "plt.show()"
   ]
  },
  {
   "cell_type": "code",
   "execution_count": 15,
   "metadata": {
    "collapsed": true
   },
   "outputs": [],
   "source": [
    "model = get_model(False)"
   ]
  },
  {
   "cell_type": "code",
   "execution_count": 57,
   "metadata": {
    "collapsed": true
   },
   "outputs": [],
   "source": [
    "##All possible sequences\n",
    "num_sequences = single_test.shape[0] - 10\n",
    "sequences = np.zeros((num_sequences, 10, 256, 256, 1))\n",
    "# apply the sliding window technique to get the sequences\n",
    "for i in range(0, num_sequences):\n",
    "    clip = np.zeros((10, 256, 256, 1))\n",
    "    for j in range(0, 10):\n",
    "        clip[j] = single_test[i + j, :, :, :]\n",
    "    sequences[i] = clip"
   ]
  },
  {
   "cell_type": "code",
   "execution_count": 20,
   "metadata": {},
   "outputs": [
    {
     "data": {
      "text/plain": [
       "(190, 10, 256, 256, 1)"
      ]
     },
     "execution_count": 20,
     "metadata": {},
     "output_type": "execute_result"
    }
   ],
   "source": [
    "sequences.shape"
   ]
  },
  {
   "cell_type": "code",
   "execution_count": 42,
   "metadata": {
    "collapsed": true
   },
   "outputs": [],
   "source": [
    "one_sequence = sequences[10:11,:,:,:]"
   ]
  },
  {
   "cell_type": "code",
   "execution_count": 43,
   "metadata": {},
   "outputs": [
    {
     "name": "stdout",
     "output_type": "stream",
     "text": [
      "1.2637946605682373 secs\n"
     ]
    }
   ],
   "source": [
    "start = time.time()\n",
    "reconstructed_sequences = model.predict(one_sequence,batch_size=BATCH_SIZE)\n",
    "end = time.time() - start\n",
    "print(end, 'secs')"
   ]
  },
  {
   "cell_type": "code",
   "execution_count": 44,
   "metadata": {
    "collapsed": true
   },
   "outputs": [],
   "source": [
    "sequence_reconstruction_cost = np.array([np.linalg.norm(np.subtract(one_sequence[i],reconstructed_sequences[i])) for i in range(0,1)])"
   ]
  },
  {
   "cell_type": "code",
   "execution_count": 45,
   "metadata": {},
   "outputs": [
    {
     "data": {
      "text/plain": [
       "array([ 24.56578652])"
      ]
     },
     "execution_count": 45,
     "metadata": {},
     "output_type": "execute_result"
    }
   ],
   "source": [
    "sequence_reconstruction_cost"
   ]
  },
  {
   "cell_type": "code",
   "execution_count": null,
   "metadata": {
    "collapsed": true
   },
   "outputs": [],
   "source": [
    "tf.distributions."
   ]
  },
  {
   "cell_type": "code",
   "execution_count": 62,
   "metadata": {},
   "outputs": [
    {
     "name": "stdout",
     "output_type": "stream",
     "text": [
      "239.0450143814087 secs\n"
     ]
    }
   ],
   "source": [
    "##All sequences\n",
    "start = time.time()\n",
    "reconstructed_sequences = model.predict(sequences,batch_size=BATCH_SIZE)\n",
    "end = time.time() - start\n",
    "print(end, 'secs')"
   ]
  },
  {
   "cell_type": "code",
   "execution_count": 59,
   "metadata": {
    "collapsed": true
   },
   "outputs": [],
   "source": [
    "sequences_reconstruction_cost = np.array([np.linalg.norm(np.subtract(sequences[i],reconstructed_sequences[i])) for i in range(0,num_sequences)])\n"
   ]
  },
  {
   "cell_type": "code",
   "execution_count": 60,
   "metadata": {},
   "outputs": [
    {
     "data": {
      "text/plain": [
       "array([ 28.80097555,  28.77805575,  28.77342082,  28.75582499,\n",
       "        28.76409286,  28.78651106,  28.82182453,  28.88534091,\n",
       "        28.92228618,  28.93557294,  28.93882803,  28.98646437,\n",
       "        29.03756208,  29.08273418,  29.04227021,  29.01948063,\n",
       "        28.9753882 ,  28.86394317,  28.7217884 ,  28.62456105,\n",
       "        28.53000184,  28.41768015,  28.31262938,  28.22135302,\n",
       "        28.10525616,  28.07770504,  28.10839209,  28.17236189,\n",
       "        28.29967218,  28.41794845,  28.57069083,  28.77712185,\n",
       "        28.98084471,  29.19783301,  29.44370775,  29.57282531,\n",
       "        29.65418988,  29.67098113,  29.73539963,  29.87120199,\n",
       "        30.02544913,  30.10021368,  30.17376171,  30.23901336,\n",
       "        30.31878983,  30.42918831,  30.49461252,  30.56201203,\n",
       "        30.57626225,  30.50875897,  30.49291612,  30.51514232,\n",
       "        30.46899883,  30.46615528,  30.50393299,  30.55143277,\n",
       "        30.55898542,  30.52517285,  30.47502964,  30.42679868,\n",
       "        30.41521807,  30.37755046,  30.38531089,  30.38020176,\n",
       "        30.33724079,  30.3487686 ,  30.39810558,  30.47537032,\n",
       "        30.5011967 ,  30.49147108,  30.56797243,  30.64893818,\n",
       "        30.68231305,  30.71695267,  30.7425958 ,  30.70949098,\n",
       "        30.72070441,  30.69881516,  30.66644873,  30.6137665 ,\n",
       "        30.5863282 ,  30.67727831,  30.75736726,  30.81710399,\n",
       "        30.83913306,  30.87622013,  30.88602197,  30.8721106 ,\n",
       "        30.84092915,  30.79103632,  30.71554353,  30.68081712,\n",
       "        30.63401688,  30.65266771,  30.65003436,  30.55289989,\n",
       "        30.5283345 ,  30.67724458,  30.8908034 ,  31.0034505 ,\n",
       "        31.02991203,  30.99317124,  30.9640632 ,  31.02623872,\n",
       "        31.12523724,  31.21326365,  31.19106894,  31.13132286,\n",
       "        31.05251831,  31.00607732,  30.97459979,  30.92212201,\n",
       "        30.83898714,  30.68039588,  30.53360699,  30.3558199 ,\n",
       "        30.28003001,  30.15859633,  30.06785349,  30.03103942,\n",
       "        29.92528401,  29.81110739,  29.72036999,  29.67108593,\n",
       "        29.6598328 ,  29.73706326,  29.79473492,  29.91045908,\n",
       "        30.0455415 ,  30.15115409,  30.26571755,  30.4199906 ,\n",
       "        30.59597171,  30.77213166,  30.91096227,  31.04161975,\n",
       "        31.25427602,  31.41399199,  31.44769284,  31.38639839,\n",
       "        31.29649863,  31.16110499,  30.89743341,  30.63536969,\n",
       "        30.38527616,  30.09494306,  29.8047427 ,  29.47315122,\n",
       "        29.29374499,  29.14503199,  29.06452818,  29.06681034,\n",
       "        29.11679872,  29.17450936,  29.30145329,  29.43334821,\n",
       "        29.51692084,  29.53700785,  29.58734293,  29.64738145,\n",
       "        29.69253094,  29.74071318,  29.73856869,  29.73281486,\n",
       "        29.67644066,  29.64390669,  29.62933913,  29.65204365,\n",
       "        29.63958404,  29.63929206,  29.65634338,  29.68718074,\n",
       "        29.69328676,  29.69420148,  29.66806203,  29.65905852,\n",
       "        29.65226624,  29.67464411,  29.62288722,  29.50468465,\n",
       "        29.36244584,  29.1887556 ,  29.10285711,  29.02306095,\n",
       "        29.00911235,  28.96013991,  28.9224866 ,  28.88955862,\n",
       "        28.9162617 ,  28.95593943])"
      ]
     },
     "execution_count": 60,
     "metadata": {},
     "output_type": "execute_result"
    }
   ],
   "source": [
    "sequences_reconstruction_cost"
   ]
  },
  {
   "cell_type": "code",
   "execution_count": 61,
   "metadata": {},
   "outputs": [
    {
     "data": {
      "image/png": "[encoded data removed]",
      "text/plain": [
       "<matplotlib.figure.Figure at 0x7f23e43c9208>"
      ]
     },
     "metadata": {},
     "output_type": "display_data"
    }
   ],
   "source": [
    "sa = (sequences_reconstruction_cost - np.min(sequences_reconstruction_cost)) / np.max(sequences_reconstruction_cost)\n",
    "sr = 1.0 - sa\n",
    "\n",
    "# plot the regularity scores\n",
    "plt.plot(sr)\n",
    "plt.ylabel('regularity score Sr(t)')\n",
    "plt.xlabel('frame t')\n",
    "plt.show()"
   ]
  },
  {
   "cell_type": "code",
   "execution_count": null,
   "metadata": {
    "collapsed": true
   },
   "outputs": [],
   "source": []
  }
 ],
 "metadata": {
  "kernelspec": {
   "display_name": "Python 3",
   "language": "python",
   "name": "python3"
  },
  "language_info": {
   "codemirror_mode": {
    "name": "ipython",
    "version": 3
   },
   "file_extension": ".py",
   "mimetype": "text/x-python",
   "name": "python",
   "nbconvert_exporter": "python",
   "pygments_lexer": "ipython3",
   "version": "3.5.2"
  }
 },
 "nbformat": 4,
 "nbformat_minor": 2
}
