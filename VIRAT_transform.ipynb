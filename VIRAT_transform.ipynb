{
 "cells": [
  {
   "cell_type": "code",
   "execution_count": 1,
   "metadata": {},
   "outputs": [],
   "source": [
    "import os\n",
    "import cv2"
   ]
  },
  {
   "cell_type": "code",
   "execution_count": 2,
   "metadata": {},
   "outputs": [],
   "source": [
    "main_dir = os.path.abspath(os.getcwd())"
   ]
  },
  {
   "cell_type": "code",
   "execution_count": 3,
   "metadata": {},
   "outputs": [
    {
     "data": {
      "text/plain": [
       "'/home/vgoncalves/personal-git/anomaly-detection-autoencoder'"
      ]
     },
     "execution_count": 3,
     "metadata": {},
     "output_type": "execute_result"
    }
   ],
   "source": [
    "main_dir"
   ]
  },
  {
   "cell_type": "code",
   "execution_count": 4,
   "metadata": {},
   "outputs": [],
   "source": [
    "virat_dir = os.path.join(main_dir, 'Resources')\n",
    "virat_transformed_dir = os.path.join(main_dir, 'VIRAT_transformed')\n",
    "virat_transformed_test_dir = os.path.join(virat_transformed_dir, 'Test')\n",
    "virat_transformed_train_dir = os.path.join(virat_transformed_dir, 'Train')"
   ]
  },
  {
   "cell_type": "code",
   "execution_count": null,
   "metadata": {},
   "outputs": [],
   "source": []
  },
  {
   "cell_type": "code",
   "execution_count": 5,
   "metadata": {},
   "outputs": [],
   "source": [
    "v_0_00 = os.path.join(virat_dir, 'VIRAT_S_010000_00_000000_000165.mp4')\n",
    "v_0_02 = os.path.join(virat_dir, 'VIRAT_S_010000_02_000388_000421.mp4')\n",
    "v_0_07 = os.path.join(virat_dir, 'VIRAT_S_010000_07_000827_000860.mp4')\n",
    "v_0_08 = os.path.join(virat_dir, 'VIRAT_S_010000_08_000893_001024.mp4')"
   ]
  },
  {
   "cell_type": "code",
   "execution_count": 6,
   "metadata": {},
   "outputs": [],
   "source": [
    "vs = cv2.VideoCapture(v_0_00)"
   ]
  },
  {
   "cell_type": "code",
   "execution_count": 18,
   "metadata": {},
   "outputs": [
    {
     "data": {
      "text/plain": [
       "3956"
      ]
     },
     "execution_count": 18,
     "metadata": {},
     "output_type": "execute_result"
    }
   ],
   "source": [
    "int(vs.get(cv2.CAP_PROP_FRAME_COUNT))"
   ]
  },
  {
   "cell_type": "code",
   "execution_count": 8,
   "metadata": {},
   "outputs": [],
   "source": [
    "def show_video(video_file, start_frame=0):\n",
    "    vs = cv2.VideoCapture(video_file)\n",
    "    vs.set(cv2.CAP_PROP_POS_FRAMES, start_frame)\n",
    "    count = 1\n",
    "    while(vs.isOpened()):\n",
    "        # Capture frame-by-frame\n",
    "        ret, frame = vs.read()\n",
    "\n",
    "        if ret == True:\n",
    "            frame = cv2.cvtColor(frame, cv2.COLOR_BGR2GRAY)\n",
    "            frame = cv2.resize(frame, (256,256))\n",
    "            frame = frame/256\n",
    "\n",
    "            # Display the resulting frame\n",
    "            cv2.putText(frame, str(count), (10,20), cv2.FONT_HERSHEY_DUPLEX, 0.5, (255, 255, 255), 2)\n",
    "            cv2.imshow('Frame',frame)        \n",
    "\n",
    "            # Press Q on keyboard to  exit\n",
    "            if cv2.waitKey(25) & 0xFF == ord('q'):          \n",
    "                cv2.destroyAllWindows()  \n",
    "                vs.release()\n",
    "                break\n",
    "        else:\n",
    "            cv2.destroyAllWindows()  \n",
    "            vs.release()\n",
    "            break\n",
    "\n",
    "        count += 1\n"
   ]
  },
  {
   "cell_type": "code",
   "execution_count": 23,
   "metadata": {},
   "outputs": [],
   "source": [
    "def write_extract(video_file, output_file, start_frame=0, end_frame=None):\n",
    "    fourcc = cv2.VideoWriter_fourcc(*\"XVID\")\n",
    "    fps = 30\n",
    "    out = cv2.VideoWriter(output_file, fourcc, fps, (512,288), 0)\n",
    "    vs = cv2.VideoCapture(video_file)\n",
    "    vs.set(cv2.CAP_PROP_POS_FRAMES, start_frame)\n",
    "    current_frame = start_frame\n",
    "    while(vs.isOpened()):\n",
    "        # Capture frame-by-frame\n",
    "        ret, frame = vs.read()\n",
    "        if ret == True:\n",
    "            \n",
    "            if end_frame is not None and current_frame == end_frame:\n",
    "                vs.release()\n",
    "                out.release()\n",
    "                break\n",
    "                \n",
    "            frame = cv2.cvtColor(frame, cv2.COLOR_BGR2GRAY)\n",
    "            frame = cv2.resize(frame, (512,288))\n",
    "            #frame = frame/256\n",
    "            out.write(frame)\n",
    "            current_frame += 1\n",
    "            \n",
    "        else:\n",
    "            vs.release()\n",
    "            out.release()\n",
    "            break\n",
    "    \n"
   ]
  },
  {
   "cell_type": "code",
   "execution_count": 71,
   "metadata": {},
   "outputs": [],
   "source": [
    "##Full Video\n",
    "show_video(v_0_00)   "
   ]
  },
  {
   "cell_type": "code",
   "execution_count": 14,
   "metadata": {},
   "outputs": [],
   "source": [
    " "
   ]
  },
  {
   "cell_type": "code",
   "execution_count": 210,
   "metadata": {},
   "outputs": [],
   "source": []
  },
  {
   "cell_type": "code",
   "execution_count": null,
   "metadata": {},
   "outputs": [],
   "source": []
  },
  {
   "cell_type": "code",
   "execution_count": null,
   "metadata": {},
   "outputs": [],
   "source": []
  },
  {
   "cell_type": "code",
   "execution_count": 84,
   "metadata": {},
   "outputs": [],
   "source": [
    "vs = cv2.VideoCapture(virat_transformed_train_dir + '/001.mp4')"
   ]
  },
  {
   "cell_type": "code",
   "execution_count": 59,
   "metadata": {},
   "outputs": [],
   "source": [
    "out.release()"
   ]
  },
  {
   "cell_type": "code",
   "execution_count": null,
   "metadata": {},
   "outputs": [],
   "source": []
  },
  {
   "cell_type": "code",
   "execution_count": 86,
   "metadata": {},
   "outputs": [],
   "source": [
    "frame"
   ]
  },
  {
   "cell_type": "markdown",
   "metadata": {},
   "source": [
    "## Test Sequences"
   ]
  },
  {
   "cell_type": "code",
   "execution_count": 15,
   "metadata": {},
   "outputs": [],
   "source": [
    "## Scooter: frames 600-1100\n",
    "show_video(v_0_00, start_frame = 601) "
   ]
  },
  {
   "cell_type": "code",
   "execution_count": 24,
   "metadata": {},
   "outputs": [],
   "source": [
    "write_extract(v_0_00, virat_transformed_test_dir + '/test_001.mp4', start_frame=601, end_frame=1100)"
   ]
  },
  {
   "cell_type": "code",
   "execution_count": 27,
   "metadata": {},
   "outputs": [],
   "source": [
    "show_video(virat_transformed_test_dir + '/test_001.mp4')"
   ]
  },
  {
   "cell_type": "code",
   "execution_count": null,
   "metadata": {},
   "outputs": [],
   "source": []
  },
  {
   "cell_type": "code",
   "execution_count": 30,
   "metadata": {},
   "outputs": [],
   "source": [
    "## Full Video\n",
    "## Bike\n",
    "show_video(v_0_02) "
   ]
  },
  {
   "cell_type": "code",
   "execution_count": 29,
   "metadata": {},
   "outputs": [],
   "source": [
    "write_extract(v_0_02, virat_transformed_test_dir + '/test_002.mp4')"
   ]
  },
  {
   "cell_type": "code",
   "execution_count": null,
   "metadata": {},
   "outputs": [],
   "source": []
  },
  {
   "cell_type": "code",
   "execution_count": null,
   "metadata": {},
   "outputs": [],
   "source": []
  },
  {
   "cell_type": "code",
   "execution_count": 69,
   "metadata": {},
   "outputs": [],
   "source": [
    "## Removing chair: frames 1700-2100\n",
    "show_video(v_0_00, 1700) "
   ]
  },
  {
   "cell_type": "code",
   "execution_count": null,
   "metadata": {
    "collapsed": true
   },
   "outputs": [],
   "source": []
  },
  {
   "cell_type": "code",
   "execution_count": 101,
   "metadata": {},
   "outputs": [],
   "source": []
  },
  {
   "cell_type": "code",
   "execution_count": null,
   "metadata": {
    "collapsed": true
   },
   "outputs": [],
   "source": []
  },
  {
   "cell_type": "code",
   "execution_count": 94,
   "metadata": {
    "collapsed": true
   },
   "outputs": [],
   "source": [
    "## Full Video\n",
    "## Skate\n",
    "## Cut up until 400 frames\n",
    "show_video(v_0_07)"
   ]
  },
  {
   "cell_type": "code",
   "execution_count": 104,
   "metadata": {},
   "outputs": [],
   "source": [
    "show_video(v_0_08)"
   ]
  },
  {
   "cell_type": "code",
   "execution_count": null,
   "metadata": {
    "collapsed": true
   },
   "outputs": [],
   "source": []
  },
  {
   "cell_type": "markdown",
   "metadata": {},
   "source": [
    "## Normal Sequences"
   ]
  },
  {
   "cell_type": "code",
   "execution_count": 212,
   "metadata": {},
   "outputs": [],
   "source": [
    "v_0_00 = os.path.join(virat_dir, 'VIRAT_S_010000_00_000000_000165.mp4')\n",
    "v_0_01 = os.path.join(virat_dir, 'VIRAT_S_010000_01_000184_000324.mp4')\n",
    "v_0_03 = os.path.join(virat_dir, 'VIRAT_S_010000_03_000442_000528.mp4')\n",
    "v_0_04 = os.path.join(virat_dir, 'VIRAT_S_010000_04_000530_000605.mp4')\n",
    "v_0_05 = os.path.join(virat_dir, 'VIRAT_S_010000_05_000638_000718.mp4')\n",
    "v_0_08 = os.path.join(virat_dir, 'VIRAT_S_010000_08_000893_001024.mp4')\n",
    "v_1_04 = os.path.join(virat_dir, 'VIRAT_S_010001_04_000583_000646.mp4')\n",
    "v_1_05 = os.path.join(virat_dir, 'VIRAT_S_010001_05_000649_000684.mp4')\n",
    "v_1_08 = os.path.join(virat_dir, 'VIRAT_S_010001_08_000826_000893.mp4')\n",
    "v_1_10 = os.path.join(virat_dir, 'VIRAT_S_010001_10_000962_001005.mp4')\n",
    "v_2_02 = os.path.join(virat_dir, 'VIRAT_S_010002_02_000174_000204.mp4')"
   ]
  },
  {
   "cell_type": "code",
   "execution_count": null,
   "metadata": {},
   "outputs": [],
   "source": []
  },
  {
   "cell_type": "code",
   "execution_count": 213,
   "metadata": {},
   "outputs": [],
   "source": [
    "write_extract(v_0_00, virat_transformed_train_dir + '/001.mp4', end_frame=600)"
   ]
  },
  {
   "cell_type": "code",
   "execution_count": 214,
   "metadata": {},
   "outputs": [],
   "source": [
    "write_extract(v_0_00, virat_transformed_train_dir + '/002.mp4', start_frame=2100)"
   ]
  },
  {
   "cell_type": "code",
   "execution_count": 215,
   "metadata": {},
   "outputs": [],
   "source": [
    "write_extract(v_0_01, virat_transformed_train_dir + '/003.mp4')"
   ]
  },
  {
   "cell_type": "code",
   "execution_count": 216,
   "metadata": {},
   "outputs": [],
   "source": [
    "write_extract(v_0_03, virat_transformed_train_dir + '/004.mp4')"
   ]
  },
  {
   "cell_type": "code",
   "execution_count": 217,
   "metadata": {},
   "outputs": [],
   "source": [
    "write_extract(v_0_04, virat_transformed_train_dir + '/005.mp4')"
   ]
  },
  {
   "cell_type": "code",
   "execution_count": 218,
   "metadata": {},
   "outputs": [],
   "source": [
    "write_extract(v_0_05, virat_transformed_train_dir + '/006.mp4')"
   ]
  },
  {
   "cell_type": "code",
   "execution_count": 219,
   "metadata": {},
   "outputs": [],
   "source": [
    "write_extract(v_0_08, virat_transformed_train_dir + '/007.mp4', start_frame=1200)"
   ]
  },
  {
   "cell_type": "code",
   "execution_count": 220,
   "metadata": {},
   "outputs": [],
   "source": [
    "write_extract(v_1_04, virat_transformed_train_dir + '/008.mp4')"
   ]
  },
  {
   "cell_type": "code",
   "execution_count": 221,
   "metadata": {},
   "outputs": [],
   "source": [
    "write_extract(v_1_05, virat_transformed_train_dir + '/009.mp4')"
   ]
  },
  {
   "cell_type": "code",
   "execution_count": 222,
   "metadata": {},
   "outputs": [],
   "source": [
    "write_extract(v_1_08, virat_transformed_train_dir + '/010.mp4')"
   ]
  },
  {
   "cell_type": "code",
   "execution_count": 223,
   "metadata": {},
   "outputs": [],
   "source": [
    "write_extract(v_1_10, virat_transformed_train_dir + '/011.mp4')"
   ]
  },
  {
   "cell_type": "code",
   "execution_count": 224,
   "metadata": {},
   "outputs": [],
   "source": [
    "write_extract(v_2_02, virat_transformed_train_dir + '/012.mp4')"
   ]
  },
  {
   "cell_type": "code",
   "execution_count": null,
   "metadata": {},
   "outputs": [],
   "source": []
  }
 ],
 "metadata": {
  "kernelspec": {
   "display_name": "video_handling",
   "language": "python",
   "name": "video_handling"
  },
  "language_info": {
   "codemirror_mode": {
    "name": "ipython",
    "version": 3
   },
   "file_extension": ".py",
   "mimetype": "text/x-python",
   "name": "python",
   "nbconvert_exporter": "python",
   "pygments_lexer": "ipython3",
   "version": "3.6.7"
  }
 },
 "nbformat": 4,
 "nbformat_minor": 4
}
