{
 "cells": [
  {
   "cell_type": "code",
   "execution_count": 1,
   "metadata": {
    "collapsed": true
   },
   "outputs": [],
   "source": [
    "import os\n",
    "import cv2"
   ]
  },
  {
   "cell_type": "code",
   "execution_count": 2,
   "metadata": {
    "collapsed": true
   },
   "outputs": [],
   "source": [
    "main_dir = os.path.abspath(os.getcwd())"
   ]
  },
  {
   "cell_type": "code",
   "execution_count": 3,
   "metadata": {},
   "outputs": [
    {
     "data": {
      "text/plain": [
       "'/home/vinicius/git-projects/anomaly-detection-autoencoder'"
      ]
     },
     "execution_count": 3,
     "metadata": {},
     "output_type": "execute_result"
    }
   ],
   "source": [
    "main_dir"
   ]
  },
  {
   "cell_type": "code",
   "execution_count": 105,
   "metadata": {
    "collapsed": true
   },
   "outputs": [],
   "source": [
    "virat_dir = os.path.join(main_dir, 'Resources')\n",
    "virat_transformed_dir = os.path.join(main_dir, 'VIRAT_transformed')\n",
    "virat_transformed_test_dir = os.path.join(virat_transformed_dir, 'Test')\n",
    "virat_transformed_train_dir = os.path.join(virat_transformed_dir, 'Train')"
   ]
  },
  {
   "cell_type": "code",
   "execution_count": 102,
   "metadata": {
    "collapsed": true
   },
   "outputs": [],
   "source": [
    "v_0_00 = os.path.join(virat_dir, 'VIRAT_S_010000_00_000000_000165.mp4')\n",
    "v_0_02 = os.path.join(virat_dir, 'VIRAT_S_010000_02_000388_000421.mp4')\n",
    "v_0_07 = os.path.join(virat_dir, 'VIRAT_S_010000_07_000827_000860.mp4')\n",
    "v_0_08 = os.path.join(virat_dir, 'VIRAT_S_010000_08_000893_001024.mp4')"
   ]
  },
  {
   "cell_type": "code",
   "execution_count": 99,
   "metadata": {
    "collapsed": true
   },
   "outputs": [],
   "source": [
    "vs = cv2.VideoCapture(v_0_00)"
   ]
  },
  {
   "cell_type": "code",
   "execution_count": 100,
   "metadata": {},
   "outputs": [
    {
     "data": {
      "text/plain": [
       "3956"
      ]
     },
     "execution_count": 100,
     "metadata": {},
     "output_type": "execute_result"
    }
   ],
   "source": [
    "int(vs.get(cv2.CAP_PROP_FRAME_COUNT))"
   ]
  },
  {
   "cell_type": "code",
   "execution_count": 92,
   "metadata": {
    "collapsed": true
   },
   "outputs": [],
   "source": [
    "def show_video(video_file, start_frame=0):\n",
    "    vs = cv2.VideoCapture(video_file)\n",
    "    vs.set(cv2.CAP_PROP_POS_FRAMES, start_frame)\n",
    "    count = 1\n",
    "    while(vs.isOpened()):\n",
    "        # Capture frame-by-frame\n",
    "        ret, frame = vs.read()\n",
    "\n",
    "        if ret == True:\n",
    "            frame = cv2.cvtColor(frame, cv2.COLOR_BGR2GRAY)\n",
    "            frame = cv2.resize(frame, (256,256))\n",
    "            frame = frame/256\n",
    "\n",
    "            # Display the resulting frame\n",
    "            cv2.putText(frame, str(count), (10,20), cv2.FONT_HERSHEY_DUPLEX, 0.5, (255, 255, 255), 2)\n",
    "            cv2.imshow('Frame',frame)        \n",
    "\n",
    "            # Press Q on keyboard to  exit\n",
    "            if cv2.waitKey(25) & 0xFF == ord('q'):          \n",
    "                cv2.destroyAllWindows()  \n",
    "                vs.release()\n",
    "                break\n",
    "        else:\n",
    "            cv2.destroyAllWindows()  \n",
    "            vs.release()\n",
    "            break\n",
    "\n",
    "        count += 1\n"
   ]
  },
  {
   "cell_type": "code",
   "execution_count": 110,
   "metadata": {},
   "outputs": [],
   "source": [
    "def write_extract(video_file, output_file, start_frame=0, end_frame=None):\n",
    "    out = cv2.VideoWriter(output_file, cv2.VideoWriter_fourcc('M','J','P','G'), 10, (256,256))\n",
    "    vs = cv2.VideoCapture(video_file)\n",
    "    vs.set(cv2.CAP_PROP_POS_FRAMES, start_frame)\n",
    "    current_frame = 1\n",
    "    while(vs.isOpened()):\n",
    "        # Capture frame-by-frame\n",
    "        ret, frame = vs.read()\n",
    "        if ret == True:\n",
    "            \n",
    "            if end_frame is not None and current_frame == end_frame:\n",
    "                vs.release()\n",
    "                out.release()\n",
    "                break\n",
    "                \n",
    "            frame = cv2.cvtColor(frame, cv2.COLOR_BGR2GRAY)\n",
    "            frame = cv2.resize(frame, (256,256))\n",
    "            #frame = frame/256\n",
    "            out.write(frame)\n",
    "            current_frame += 1\n",
    "            \n",
    "        else:\n",
    "            vs.release()\n",
    "            out.release()\n",
    "            break\n",
    "    \n"
   ]
  },
  {
   "cell_type": "code",
   "execution_count": 87,
   "metadata": {
    "collapsed": true
   },
   "outputs": [],
   "source": [
    "show_video(v_0_00)"
   ]
  },
  {
   "cell_type": "code",
   "execution_count": 71,
   "metadata": {},
   "outputs": [],
   "source": [
    "##Full Video\n",
    "show_video(v_0_00)   "
   ]
  },
  {
   "cell_type": "code",
   "execution_count": null,
   "metadata": {
    "collapsed": true
   },
   "outputs": [],
   "source": [
    "## Scooter: frames 600-1100\n",
    "show_video(v_0_00, 600)  "
   ]
  },
  {
   "cell_type": "code",
   "execution_count": 111,
   "metadata": {},
   "outputs": [],
   "source": [
    "write_extract(v_0_00, virat_transformed_train_dir + '/001.mp4', start_frame=0, end_frame=600)"
   ]
  },
  {
   "cell_type": "code",
   "execution_count": null,
   "metadata": {
    "collapsed": true
   },
   "outputs": [],
   "source": []
  },
  {
   "cell_type": "code",
   "execution_count": 69,
   "metadata": {},
   "outputs": [],
   "source": [
    "## Removing chair: frames 1700-2100\n",
    "show_video(v_0_00, 1700) "
   ]
  },
  {
   "cell_type": "code",
   "execution_count": null,
   "metadata": {
    "collapsed": true
   },
   "outputs": [],
   "source": []
  },
  {
   "cell_type": "code",
   "execution_count": 101,
   "metadata": {},
   "outputs": [],
   "source": [
    "## Full Video\n",
    "## Bike\n",
    "## Cut up until 400 frames\n",
    "show_video(v_0_02) "
   ]
  },
  {
   "cell_type": "code",
   "execution_count": null,
   "metadata": {
    "collapsed": true
   },
   "outputs": [],
   "source": []
  },
  {
   "cell_type": "code",
   "execution_count": 94,
   "metadata": {
    "collapsed": true
   },
   "outputs": [],
   "source": [
    "## Full Video\n",
    "## Skate\n",
    "## Cut up until 400 frames\n",
    "show_video(v_0_07)"
   ]
  },
  {
   "cell_type": "code",
   "execution_count": 104,
   "metadata": {},
   "outputs": [],
   "source": [
    "show_video(v_0_08)"
   ]
  },
  {
   "cell_type": "code",
   "execution_count": null,
   "metadata": {
    "collapsed": true
   },
   "outputs": [],
   "source": []
  }
 ],
 "metadata": {
  "kernelspec": {
   "display_name": "Python 3",
   "language": "python",
   "name": "python3"
  },
  "language_info": {
   "codemirror_mode": {
    "name": "ipython",
    "version": 3
   },
   "file_extension": ".py",
   "mimetype": "text/x-python",
   "name": "python",
   "nbconvert_exporter": "python",
   "pygments_lexer": "ipython3",
   "version": "3.6.3"
  }
 },
 "nbformat": 4,
 "nbformat_minor": 4
}
